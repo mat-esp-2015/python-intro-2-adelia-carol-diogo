{
 "cells": [
  {
   "cell_type": "markdown",
   "metadata": {},
   "source": [
    "**Course website**: http://www.leouieda.com/matematica-especial\n",
    "\n",
    "**Note**: This notebook is part of the course \"Matemática Especial I\" of the [Universidade do Estado do Rio de Janeiro](http://www.uerj.br/). All content can be freely used and adapted under the terms of the \n",
    "[Creative Commons Attribution 4.0 International License](http://creativecommons.org/licenses/by/4.0/).\n",
    "\n",
    "![Creative Commons License](https://i.creativecommons.org/l/by/4.0/88x31.png)"
   ]
  },
  {
   "cell_type": "markdown",
   "metadata": {},
   "source": [
    "# Tarefas de Python II"
   ]
  },
  {
   "cell_type": "markdown",
   "metadata": {},
   "source": [
    "Nessas tarefas, vocês vão praticar os conceitos de programação em Python que aprenderam na prática passada. Além disso, vão aprender algumas coisas novas, como ler dados de arquivos.\n",
    "\n",
    "Algumas células de código estarão preenchidas. Essas células são exemplos ou códigos que devem ser rodados para verificar se seu resultado está de acordo com o esperado."
   ]
  },
  {
   "cell_type": "markdown",
   "metadata": {},
   "source": [
    "## Leitura recomendada\n",
    "\n",
    "O material da lição \"Programming with Python\" versão 4 do\n",
    "[Software Carpentry](http://software-carpentry.org/).\n",
    "Particularmente:\n",
    "\n",
    "* Lists\n",
    "* Input and Output\n",
    "* Strings"
   ]
  },
  {
   "cell_type": "markdown",
   "metadata": {},
   "source": [
    "## Listas\n",
    "\n",
    "Vocês tiveram um contato limitado com listas antes. Agora, vamos aprender como fazer coisas mais sofisticadas com listas, como adicionar valores, fazer uma cópia, e utilizar a lista no `for`.\n",
    "\n",
    "Primeiro, vamos criar uma lista para testarmos."
   ]
  },
  {
   "cell_type": "code",
   "execution_count": 1,
   "metadata": {
    "collapsed": true
   },
   "outputs": [],
   "source": [
    "lista = [42, 21, 14, 7, 29]"
   ]
  },
  {
   "cell_type": "markdown",
   "metadata": {},
   "source": [
    "Você pode perguntar o número de elementos que existem em uma lista utilizando a função `len` (muito melhor que contar os elementos na mão)."
   ]
  },
  {
   "cell_type": "code",
   "execution_count": 2,
   "metadata": {
    "collapsed": false
   },
   "outputs": [
    {
     "name": "stdout",
     "output_type": "stream",
     "text": [
      "5\n"
     ]
    }
   ],
   "source": [
    "N = len(lista)\n",
    "print(N)"
   ]
  },
  {
   "cell_type": "markdown",
   "metadata": {},
   "source": [
    "Outra coisa que podemos fazer é adicionar coisas a nossa lista utilizando o método `append`. \n",
    "\n",
    "**Nota**: \"funções\" são coisa como `print`, `len` e `range` que são executadas com `()` e produzem algo. \"Métodos\" são funções que operam em uma determinada variável e a alteram, como `append` e `format`."
   ]
  },
  {
   "cell_type": "code",
   "execution_count": 3,
   "metadata": {
    "collapsed": true
   },
   "outputs": [],
   "source": [
    "outra_lista = []"
   ]
  },
  {
   "cell_type": "code",
   "execution_count": 4,
   "metadata": {
    "collapsed": true
   },
   "outputs": [],
   "source": [
    "outra_lista.append(10)"
   ]
  },
  {
   "cell_type": "code",
   "execution_count": 5,
   "metadata": {
    "collapsed": false
   },
   "outputs": [
    {
     "name": "stdout",
     "output_type": "stream",
     "text": [
      "[10]\n"
     ]
    }
   ],
   "source": [
    "print(outra_lista)"
   ]
  },
  {
   "cell_type": "markdown",
   "metadata": {},
   "source": [
    "Experimente adicionar elementos a `lista` (utilize a célula vazia abaixo; isso não é uma tarefa ainda)."
   ]
  },
  {
   "cell_type": "code",
   "execution_count": 6,
   "metadata": {
    "collapsed": false
   },
   "outputs": [
    {
     "name": "stdout",
     "output_type": "stream",
     "text": [
      "[10, 15]\n"
     ]
    }
   ],
   "source": [
    "outra_lista = [10]\n",
    "outra_lista.append(15)\n",
    "print(outra_lista)"
   ]
  },
  {
   "cell_type": "code",
   "execution_count": 21,
   "metadata": {
    "collapsed": true
   },
   "outputs": [],
   "source": [
    "lista.extend([20, 4, 16])"
   ]
  },
  {
   "cell_type": "code",
   "execution_count": 7,
   "metadata": {
    "collapsed": false
   },
   "outputs": [
    {
     "name": "stdout",
     "output_type": "stream",
     "text": [
      "[42, 21, 14, 7, 29]\n"
     ]
    }
   ],
   "source": [
    "print(lista)"
   ]
  },
  {
   "cell_type": "markdown",
   "metadata": {},
   "source": [
    "Até agora, vocês viram o `for` utilizado somente em conjunto com a função `range`, por exemplo:\n",
    "\n",
    "    for i in range(10):\n",
    "        print(i)\n",
    "\n",
    "Essa é uma parte de como o `for` realmente opera. Na realidade, o `for` itera sobre *elementos de uma lista*. Qualquer lista. O `i` no exemplo acima é uma variável como qualquer outra e pode ter o nome que você quiser. \n",
    "\n",
    "Por exemplo, para iterar sobre os elementos de nossa `lista`:"
   ]
  },
  {
   "cell_type": "code",
   "execution_count": 8,
   "metadata": {
    "collapsed": false
   },
   "outputs": [
    {
     "name": "stdout",
     "output_type": "stream",
     "text": [
      "('valor ==', 42)\n",
      "('valor ==', 21)\n",
      "('valor ==', 14)\n",
      "('valor ==', 7)\n",
      "('valor ==', 29)\n"
     ]
    }
   ],
   "source": [
    "for valor in lista:\n",
    "    print(\"valor ==\", valor)"
   ]
  },
  {
   "cell_type": "markdown",
   "metadata": {},
   "source": [
    "## Lendo dados de arquivos\n",
    "\n",
    "No mundo real, vocês precisarão rotineiramente trabalhar com dados que estão salvos em arquivos. Um formato muito utilizando é o CSV (Comma Separated Values). Nas tarefas dessa prática, vocês terão que analisar os dados do arquivo `dados.csv` que está junto no repositório. Abra esse arquivo em um editor de texto (Notepad++ ou SublimeText) para ver como é o arquivo. A primeira coluna do arquivo representa a hora do dia (de 0 a 24) e a segunda coluna representa um dado fictício de temperatura.\n",
    "\n",
    "Precisamos carregar esses dados para duas listas (uma para as horas e outra para as temperaturas) para podermos trabalhar com eles no Python. Para abrir um arquivo para leitura, utilize a função `open` do Python. Por exemplo: "
   ]
  },
  {
   "cell_type": "code",
   "execution_count": 9,
   "metadata": {
    "collapsed": true
   },
   "outputs": [],
   "source": [
    "arquivo = open('dados.csv')"
   ]
  },
  {
   "cell_type": "markdown",
   "metadata": {},
   "source": [
    "A variável produzida por `open` possui alguns métodos para acessar o conteúdo do arquivo em formato de texto (strings).\n",
    "Um desses métodos é o `readline`. Esse método lê a próxima linha do arquivo e a retorna como texto. Por exemplo:"
   ]
  },
  {
   "cell_type": "code",
   "execution_count": 10,
   "metadata": {
    "collapsed": false
   },
   "outputs": [
    {
     "name": "stdout",
     "output_type": "stream",
     "text": [
      "0, 0\n",
      "\n"
     ]
    }
   ],
   "source": [
    "linha = arquivo.readline()\n",
    "print(linha)"
   ]
  },
  {
   "cell_type": "markdown",
   "metadata": {},
   "source": [
    "Rode a célula acima novamente e veja o que acontece.\n"
   ]
  },
  {
   "cell_type": "markdown",
   "metadata": {},
   "source": [
    "Quanto terminamos de utilizar o arquivo, devemos fechá-lo (como as figuras)."
   ]
  },
  {
   "cell_type": "code",
   "execution_count": 11,
   "metadata": {
    "collapsed": true
   },
   "outputs": [],
   "source": [
    "arquivo.close()"
   ]
  },
  {
   "cell_type": "markdown",
   "metadata": {},
   "source": [
    "Uma vez obtida a linha em formato de texto, precisamo separar os dois valores. Os objetos de texto (strings) possuem diversos métodos para trabalharmos com eles. Um desses vocês já conhecem, o método `format`. Para ver uma lista dos métodos disponíveis, digite na célula abaixo `linha.` e aperte a tecla TAB."
   ]
  },
  {
   "cell_type": "code",
   "execution_count": 12,
   "metadata": {
    "collapsed": false
   },
   "outputs": [
    {
     "data": {
      "text/plain": [
       "<function split>"
      ]
     },
     "execution_count": 12,
     "metadata": {},
     "output_type": "execute_result"
    }
   ],
   "source": [
    "linha.split"
   ]
  },
  {
   "cell_type": "markdown",
   "metadata": {},
   "source": [
    "O método que queremos chama-se `split`. Ele faz exatamente o que o nome diz: quebra uma string em várias. O argumento que é passado para ele é o texto que separa os diversos blocos. Por exemplo:"
   ]
  },
  {
   "cell_type": "code",
   "execution_count": 13,
   "metadata": {
    "collapsed": false
   },
   "outputs": [
    {
     "name": "stdout",
     "output_type": "stream",
     "text": [
      "['Texto', 'separado', 'por', 'interrogacoes']\n"
     ]
    }
   ],
   "source": [
    "texto = \"Texto ? separado ? por ? interrogacoes\"\n",
    "blocos = texto.split(' ? ')\n",
    "print(blocos)"
   ]
  },
  {
   "cell_type": "markdown",
   "metadata": {},
   "source": [
    "Note que o resultado produzido por `split` é uma lista."
   ]
  },
  {
   "cell_type": "code",
   "execution_count": 14,
   "metadata": {
    "collapsed": false
   },
   "outputs": [
    {
     "data": {
      "text/plain": [
       "'Texto'"
      ]
     },
     "execution_count": 14,
     "metadata": {},
     "output_type": "execute_result"
    }
   ],
   "source": [
    "blocos[0]"
   ]
  },
  {
   "cell_type": "markdown",
   "metadata": {},
   "source": [
    "Experimente separar a linha do arquivo que vemos acima nos dois valores que ela contem (utilize a célula vazia abaixo; isso não é uma tarefa ainda)."
   ]
  },
  {
   "cell_type": "code",
   "execution_count": 15,
   "metadata": {
    "collapsed": false
   },
   "outputs": [
    {
     "data": {
      "text/plain": [
       "'por'"
      ]
     },
     "execution_count": 15,
     "metadata": {},
     "output_type": "execute_result"
    }
   ],
   "source": [
    "blocos[2]"
   ]
  },
  {
   "cell_type": "code",
   "execution_count": null,
   "metadata": {
    "collapsed": false
   },
   "outputs": [],
   "source": []
  },
  {
   "cell_type": "markdown",
   "metadata": {},
   "source": [
    "Depois que conseguirmos nossos valores em formato texto, precisamos convertê-los para números. O Python nos fornece algumas funções para isso: `int` (para números inteiros), `float` (para números \"reais\" ou ponto flutuante) e `complex` (para números complexos). Por exemplo: "
   ]
  },
  {
   "cell_type": "code",
   "execution_count": 16,
   "metadata": {
    "collapsed": false
   },
   "outputs": [
    {
     "name": "stdout",
     "output_type": "stream",
     "text": [
      "8889\n"
     ]
    }
   ],
   "source": [
    "valor_em_texto = \"8888\"\n",
    "valor = int (valor_em_texto)\n",
    "print(valor + 1)"
   ]
  },
  {
   "cell_type": "code",
   "execution_count": 17,
   "metadata": {
    "collapsed": false
   },
   "outputs": [
    {
     "ename": "NameError",
     "evalue": "name 'floatoat' is not defined",
     "output_type": "error",
     "traceback": [
      "\u001b[1;31m---------------------------------------------------------------------------\u001b[0m",
      "\u001b[1;31mNameError\u001b[0m                                 Traceback (most recent call last)",
      "\u001b[1;32m<ipython-input-17-60924f3c67bb>\u001b[0m in \u001b[0;36m<module>\u001b[1;34m()\u001b[0m\n\u001b[0;32m      1\u001b[0m \u001b[0mfloat_em_texto\u001b[0m \u001b[1;33m=\u001b[0m \u001b[1;34m\"4.2\"\u001b[0m\u001b[1;33m\u001b[0m\u001b[0m\n\u001b[1;32m----> 2\u001b[1;33m \u001b[0mvalor\u001b[0m \u001b[1;33m=\u001b[0m \u001b[0mfloatoat\u001b[0m \u001b[1;33m(\u001b[0m\u001b[0mfloat_em_texto\u001b[0m\u001b[1;33m)\u001b[0m\u001b[1;33m\u001b[0m\u001b[0m\n\u001b[0m\u001b[0;32m      3\u001b[0m \u001b[1;32mprint\u001b[0m\u001b[1;33m(\u001b[0m\u001b[0mvalor\u001b[0m\u001b[1;33m/\u001b[0m\u001b[1;36m2\u001b[0m\u001b[1;33m)\u001b[0m\u001b[1;33m\u001b[0m\u001b[0m\n",
      "\u001b[1;31mNameError\u001b[0m: name 'floatoat' is not defined"
     ]
    }
   ],
   "source": [
    "float_em_texto = \"4.2\"\n",
    "valor = floatoat (float_em_texto)\n",
    "print(valor/2)"
   ]
  },
  {
   "cell_type": "markdown",
   "metadata": {},
   "source": [
    "Por último, podemos tratar a variável `arquivo` retornada por `open` como uma lista das linhas do arquivo. Isso quer dizer que podemos utilizá-la em um `for` como:"
   ]
  },
  {
   "cell_type": "code",
   "execution_count": 18,
   "metadata": {
    "collapsed": false
   },
   "outputs": [
    {
     "name": "stdout",
     "output_type": "stream",
     "text": [
      "240\n"
     ]
    }
   ],
   "source": [
    "arquivo = open('dados.csv')\n",
    "num_linhas = 0\n",
    "for linha in arquivo:\n",
    "    num_linhas = num_linhas + 1    \n",
    "arquivo.close()\n",
    "print(num_linhas)"
   ]
  },
  {
   "cell_type": "markdown",
   "metadata": {},
   "source": [
    "Experimente imprimir todas as linhas do arquivo `README.md` (utilize a célula vazia abaixo; isso não é uma tarefa ainda)."
   ]
  },
  {
   "cell_type": "raw",
   "metadata": {},
   "source": []
  },
  {
   "cell_type": "code",
   "execution_count": 19,
   "metadata": {
    "collapsed": false
   },
   "outputs": [
    {
     "name": "stdout",
     "output_type": "stream",
     "text": [
      "120\n"
     ]
    }
   ],
   "source": [
    "arquivo = open('README.md')\n",
    "num_linhas = 0\n",
    "for linha in arquivo:\n",
    "    num_linhas = num_linhas + 1\n",
    "arquivo.close()\n",
    "print(num_linhas)"
   ]
  },
  {
   "cell_type": "markdown",
   "metadata": {},
   "source": [
    "## **IMPORTANTE**: Cada tarefa abaixo deve ser feita por um membro DIFERENTE do grupo. Os outros devem ajudá-lo mas a pessoa digitando deve ser quem está encarregado da tarefa."
   ]
  },
  {
   "cell_type": "markdown",
   "metadata": {},
   "source": [
    "## Tarefa 1\n",
    "\n",
    "* Carregue os dados do arquivo `dados.csv` em duas listas: `tempos` e `dados` (os nomes precisam ser esses!). `tempos` deve conter os valores da primeira coluna e `dados` os da segunda.\n",
    "* Faça um gráfico dos hora x temperatura (lembre-se de utilizar a mágia `%matplotlib inline`).\n",
    "\n",
    "Você pode utilizar quantas células achar necessário para realizar a tarefa (use o menu \"Insert\"). Inclua comentátios para explicar o que você está fazendo."
   ]
  },
  {
   "cell_type": "code",
   "execution_count": 20,
   "metadata": {
    "collapsed": true
   },
   "outputs": [],
   "source": [
    "lista = \"matematica,especial\"\n",
    "a = lista.split(\",\")"
   ]
  },
  {
   "cell_type": "code",
   "execution_count": 21,
   "metadata": {
    "collapsed": false
   },
   "outputs": [
    {
     "name": "stdout",
     "output_type": "stream",
     "text": [
      "matematica,especial\n"
     ]
    }
   ],
   "source": [
    "print(lista)"
   ]
  },
  {
   "cell_type": "code",
   "execution_count": 22,
   "metadata": {
    "collapsed": false
   },
   "outputs": [
    {
     "name": "stdout",
     "output_type": "stream",
     "text": [
      "['matematica', 'especial']\n"
     ]
    }
   ],
   "source": [
    "print(a)"
   ]
  },
  {
   "cell_type": "code",
   "execution_count": 23,
   "metadata": {
    "collapsed": false,
    "scrolled": true
   },
   "outputs": [
    {
     "name": "stdout",
     "output_type": "stream",
     "text": [
      "('Tempos:', [0.0, 0.1, 0.2, 0.3, 0.4, 0.5, 0.6, 0.7, 0.8, 0.9, 1.0, 1.1, 1.2, 1.3, 1.4, 1.5, 1.6, 1.7, 1.8, 1.9, 2.0, 2.1, 2.2, 2.3, 2.4, 2.5, 2.6, 2.7, 2.8, 2.9, 3.0, 3.1, 3.2, 3.3, 3.4, 3.5, 3.6, 3.7, 3.8, 3.9, 4.0, 4.1, 4.2, 4.3, 4.4, 4.5, 4.6, 4.7, 4.8, 4.9, 5.0, 5.1, 5.2, 5.3, 5.4, 5.5, 5.6, 5.7, 5.8, 5.9, 6.0, 6.1, 6.2, 6.3, 6.4, 6.5, 6.6, 6.7, 6.8, 6.9, 7.0, 7.1, 7.2, 7.3, 7.4, 7.5, 7.6, 7.7, 7.8, 7.9, 8.0, 8.1, 8.2, 8.3, 8.4, 8.5, 8.6, 8.7, 8.8, 8.9, 9.0, 9.1, 9.2, 9.3, 9.4, 9.5, 9.6, 9.7, 9.8, 9.9, 10.0, 10.1, 10.2, 10.3, 10.4, 10.5, 10.6, 10.7, 10.8, 10.9, 11.0, 11.1, 11.2, 11.3, 11.4, 11.5, 11.6, 11.7, 11.8, 11.9, 12.0, 12.1, 12.2, 12.3, 12.4, 12.5, 12.6, 12.7, 12.8, 12.9, 13.0, 13.1, 13.2, 13.3, 13.4, 13.5, 13.6, 13.7, 13.8, 13.9, 14.0, 14.1, 14.2, 14.3, 14.4, 14.5, 14.6, 14.7, 14.8, 14.9, 15.0, 15.1, 15.2, 15.3, 15.4, 15.5, 15.6, 15.7, 15.8, 15.9, 16.0, 16.1, 16.2, 16.3, 16.4, 16.5, 16.6, 16.7, 16.8, 16.9, 17.0, 17.1, 17.2, 17.3, 17.4, 17.5, 17.6, 17.7, 17.8, 17.9, 18.0, 18.1, 18.2, 18.3, 18.4, 18.5, 18.6, 18.7, 18.8, 18.9, 19.0, 19.1, 19.2, 19.3, 19.4, 19.5, 19.6, 19.7, 19.8, 19.9, 20.0, 20.1, 20.2, 20.3, 20.4, 20.5, 20.6, 20.7, 20.8, 20.9, 21.0, 21.1, 21.2, 21.3, 21.4, 21.5, 21.6, 21.7, 21.8, 21.9, 22.0, 22.1, 22.2, 22.3, 22.4, 22.5, 22.6, 22.7, 22.8, 22.9, 23.0, 23.1, 23.2, 23.3, 23.4, 23.5, 23.6, 23.7, 23.8, 23.9])\n",
      "('Dados:', [0.0, 0.61464164, 1.0320324, 1.1238251, 0.87540985, 0.39101585, -0.14270041, -0.52186154, -0.59659114, -0.32337174, 0.21975159, 0.86043287, 1.3922289, 1.6467141, 1.5523145, 1.1593091, 0.62226425, 0.14603706, -0.085788363, 0.024965949, 0.45677374, 1.0759225, 1.6832216, 2.0835833, 2.1541709, 1.8873076, 1.3931564, 0.8612352, 0.49421121, 0.43710175, 0.72661379, 1.2783195, 1.9161477, 2.4338889, 2.6672284, 2.5511447, 2.1426217, 1.6007407, 1.1311076, 0.91402652, 1.0415133, 1.48515, 2.1060103, 2.703189, 3.0839824, 3.1312036, 2.8441177, 2.3386969, 1.8071066, 1.4505748, 1.4090961, 1.7125255, 2.2701481, 2.902367, 3.4034394, 3.613348, 3.4736972, 3.0481116, 2.5000081, 2.0355084, 1.8314335, 1.9735332, 2.4265299, 3.0464409, 3.6308739, 3.9897274, 4.0115968, 3.7026903, 3.1846584, 2.6520967, 2.3045669, 2.2768823, 2.5920127, 3.153059, 3.7771014, 4.2590973, 4.4435073, 4.2786283, 3.8346536, 3.2791511, 2.8185258, 2.6259153, 2.7807066, 3.2408029, 3.8573278, 4.4266312, 4.7614286, 4.7562241, 4.424162, 3.8924338, 3.3578455, 3.0180666, 3.0025774, 3.3274363, 3.8896698, 4.5032423, 4.9640432, 5.1211873, 4.9297225, 4.4663317, 3.9025443, 3.4448153, 3.2624035, 3.4282434, 3.8934667, 4.5044718, 5.0565811, 5.3655393, 5.3318785, 4.9756644, 4.4294856, 3.8921364, 3.5591707, 3.5545891, 3.8875211, 4.4490349, 5.05019, 5.4880385, 5.6165203, 5.3974851, 4.9140188, 4.3414187, 3.8859563, 3.7128201, 3.8884101, 4.3571415, 4.9608616, 5.4940968, 5.7758294, 5.7127321, 5.3317694, 4.7707774, 4.2303136, 3.9035954, 3.9090038, 4.2487288, 4.8080039, 5.3951972, 5.8087533, 5.9076023, 5.660439, 5.1566584, 4.5751275, 4.1217012, 3.957311, 4.1417471, 4.6127715, 5.2078593, 5.720973, 5.9745374, 5.8814716, 5.4756083, 4.8998752, 4.3563664, 4.0357444, 4.0506367, 4.3962913, 4.952237, 5.5243671, 5.9127468, 5.9814558, 5.7060695, 5.1821911, 4.5920549, 4.1408664, 3.9851183, 4.1779235, 4.650461, 5.2360174, 5.7282246, 5.9531508, 5.8300596, 5.3996139, 4.8096715, 4.2636343, 3.9493945, 3.9736985, 4.3248581, 4.8768333, 5.4332623, 5.7960567, 5.8345998, 5.5313751, 4.988086, 4.3901277, 3.9418246, 3.7950534, 3.9961897, 4.4699073, 5.0454927, 5.5164808, 5.7127796, 5.5600885, 5.1058548, 4.5026988, 3.9551006, 3.6479693, 3.6820497, 4.0387303, 4.5865447, 5.1270983, 5.4643731, 5.4732034, 5.1430008, 4.5814535, 3.9769084, 3.5325771, 3.395549, 3.6054095, 4.0804126, 4.6460377, 5.0959559, 5.2641073, 5.0827113, 4.6059455, 3.9910206, 3.443263, 3.1443897, 3.18903, 3.5516699, 4.0955656, 4.6205135, 4.9327876, 4.912815, 4.5569469, 3.9787347, 3.3692636, 2.930403, 2.8042882, 3.0236697, 3.5004738, 4.0565703, 4.4859995, 4.6269216, 4.4181522, 3.9205381, 3.2957021, 2.749585, 2.460506, 2.5168717])\n"
     ]
    }
   ],
   "source": [
    "arquivo = open('dados.csv') #abrir o arquivo\n",
    "tempos = [] #criar lista tempo\n",
    "dados = [] #criar lista dados\n",
    "for linha in arquivo: #rodar\n",
    "    blocos = linha.split(', ') #separar as listas pela virgulaespaco \n",
    "    a = float(blocos[0]) #valores de tempos em numeros reais\n",
    "    b = float(blocos[1]) #valores de dados em numeros reais\n",
    "    tempos.append(a) #adicionar todos os valores de tempos\n",
    "    dados.append(b) #adiconar todos os valores de dados\n",
    "print(\"Tempos:\",tempos) #rodar a lista tempos\n",
    "print(\"Dados:\",dados) #rodar a lista dados\n",
    "arquivo.close() #fechar o arquivo"
   ]
  },
  {
   "cell_type": "code",
   "execution_count": 24,
   "metadata": {
    "collapsed": false,
    "scrolled": false
   },
   "outputs": [
    {
     "data": {
      "text/plain": [
<<<<<<< HEAD
       "<matplotlib.text.Text at 0x7e77748>"
=======
       "<matplotlib.text.Text at 0xa2ae1d0>"
>>>>>>> 61ca87745b0d67d126e301bf5128d34100c6f822
      ]
     },
     "execution_count": 24,
     "metadata": {},
     "output_type": "execute_result"
    },
    {
     "data": {
      "image/png": "iVBORw0KGgoAAAANSUhEUgAAAYIAAAEPCAYAAABP1MOPAAAABHNCSVQICAgIfAhkiAAAAAlwSFlz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\nE+P8/zlE3GdIGmy3AAAAAElFTkSuQmCC\n",
      "text/plain": [
<<<<<<< HEAD
       "<matplotlib.figure.Figure at 0x7ba3c50>"
=======
       "<matplotlib.figure.Figure at 0xa0f6a90>"
>>>>>>> 61ca87745b0d67d126e301bf5128d34100c6f822
      ]
     },
     "metadata": {},
     "output_type": "display_data"
    }
   ],
   "source": [
    "import matplotlib.pyplot as plt\n",
    "%matplotlib inline\n",
    "plt.figure()\n",
    "plt.plot(tempos, dados, '-k')\n",
    "plt.xlabel('Hora')\n",
    "plt.ylabel('Temperatura')\n"
   ]
  },
  {
   "cell_type": "markdown",
   "metadata": {},
   "source": [
    "### Resultado esperado\n",
    "\n",
    "A figura gerada deve ser parecida com:\n",
    "\n",
    "![images/dados.png](images/dados.png)\n",
    "\n",
    "Ao executar a célula abaixo, o resultado deve ser similar a:\n",
    "\n",
    "    Tempos: [0.0, 0.1, 0.2, 0.3, 0.4, 0.5, 0.6, 0.7, 0.8, ...]\n",
    "    Dados: [0.0, 0.61464164, 1.0320324, 1.1238251, 0.87540985, 0.39101585, -0.14270041, ...]"
   ]
  },
  {
   "cell_type": "code",
<<<<<<< HEAD
   "execution_count": 15,
=======
   "execution_count": 25,
>>>>>>> 61ca87745b0d67d126e301bf5128d34100c6f822
   "metadata": {
    "collapsed": false
   },
   "outputs": [
    {
     "name": "stdout",
     "output_type": "stream",
     "text": [
      "('Tempos:', [0.0, 0.1, 0.2, 0.3, 0.4, 0.5, 0.6, 0.7, 0.8, 0.9, 1.0, 1.1, 1.2, 1.3, 1.4, 1.5, 1.6, 1.7, 1.8, 1.9, 2.0, 2.1, 2.2, 2.3, 2.4, 2.5, 2.6, 2.7, 2.8, 2.9, 3.0, 3.1, 3.2, 3.3, 3.4, 3.5, 3.6, 3.7, 3.8, 3.9, 4.0, 4.1, 4.2, 4.3, 4.4, 4.5, 4.6, 4.7, 4.8, 4.9, 5.0, 5.1, 5.2, 5.3, 5.4, 5.5, 5.6, 5.7, 5.8, 5.9, 6.0, 6.1, 6.2, 6.3, 6.4, 6.5, 6.6, 6.7, 6.8, 6.9, 7.0, 7.1, 7.2, 7.3, 7.4, 7.5, 7.6, 7.7, 7.8, 7.9, 8.0, 8.1, 8.2, 8.3, 8.4, 8.5, 8.6, 8.7, 8.8, 8.9, 9.0, 9.1, 9.2, 9.3, 9.4, 9.5, 9.6, 9.7, 9.8, 9.9, 10.0, 10.1, 10.2, 10.3, 10.4, 10.5, 10.6, 10.7, 10.8, 10.9, 11.0, 11.1, 11.2, 11.3, 11.4, 11.5, 11.6, 11.7, 11.8, 11.9, 12.0, 12.1, 12.2, 12.3, 12.4, 12.5, 12.6, 12.7, 12.8, 12.9, 13.0, 13.1, 13.2, 13.3, 13.4, 13.5, 13.6, 13.7, 13.8, 13.9, 14.0, 14.1, 14.2, 14.3, 14.4, 14.5, 14.6, 14.7, 14.8, 14.9, 15.0, 15.1, 15.2, 15.3, 15.4, 15.5, 15.6, 15.7, 15.8, 15.9, 16.0, 16.1, 16.2, 16.3, 16.4, 16.5, 16.6, 16.7, 16.8, 16.9, 17.0, 17.1, 17.2, 17.3, 17.4, 17.5, 17.6, 17.7, 17.8, 17.9, 18.0, 18.1, 18.2, 18.3, 18.4, 18.5, 18.6, 18.7, 18.8, 18.9, 19.0, 19.1, 19.2, 19.3, 19.4, 19.5, 19.6, 19.7, 19.8, 19.9, 20.0, 20.1, 20.2, 20.3, 20.4, 20.5, 20.6, 20.7, 20.8, 20.9, 21.0, 21.1, 21.2, 21.3, 21.4, 21.5, 21.6, 21.7, 21.8, 21.9, 22.0, 22.1, 22.2, 22.3, 22.4, 22.5, 22.6, 22.7, 22.8, 22.9, 23.0, 23.1, 23.2, 23.3, 23.4, 23.5, 23.6, 23.7, 23.8, 23.9])\n",
      "('Dados:', [0.0, 0.61464164, 1.0320324, 1.1238251, 0.87540985, 0.39101585, -0.14270041, -0.52186154, -0.59659114, -0.32337174, 0.21975159, 0.86043287, 1.3922289, 1.6467141, 1.5523145, 1.1593091, 0.62226425, 0.14603706, -0.085788363, 0.024965949, 0.45677374, 1.0759225, 1.6832216, 2.0835833, 2.1541709, 1.8873076, 1.3931564, 0.8612352, 0.49421121, 0.43710175, 0.72661379, 1.2783195, 1.9161477, 2.4338889, 2.6672284, 2.5511447, 2.1426217, 1.6007407, 1.1311076, 0.91402652, 1.0415133, 1.48515, 2.1060103, 2.703189, 3.0839824, 3.1312036, 2.8441177, 2.3386969, 1.8071066, 1.4505748, 1.4090961, 1.7125255, 2.2701481, 2.902367, 3.4034394, 3.613348, 3.4736972, 3.0481116, 2.5000081, 2.0355084, 1.8314335, 1.9735332, 2.4265299, 3.0464409, 3.6308739, 3.9897274, 4.0115968, 3.7026903, 3.1846584, 2.6520967, 2.3045669, 2.2768823, 2.5920127, 3.153059, 3.7771014, 4.2590973, 4.4435073, 4.2786283, 3.8346536, 3.2791511, 2.8185258, 2.6259153, 2.7807066, 3.2408029, 3.8573278, 4.4266312, 4.7614286, 4.7562241, 4.424162, 3.8924338, 3.3578455, 3.0180666, 3.0025774, 3.3274363, 3.8896698, 4.5032423, 4.9640432, 5.1211873, 4.9297225, 4.4663317, 3.9025443, 3.4448153, 3.2624035, 3.4282434, 3.8934667, 4.5044718, 5.0565811, 5.3655393, 5.3318785, 4.9756644, 4.4294856, 3.8921364, 3.5591707, 3.5545891, 3.8875211, 4.4490349, 5.05019, 5.4880385, 5.6165203, 5.3974851, 4.9140188, 4.3414187, 3.8859563, 3.7128201, 3.8884101, 4.3571415, 4.9608616, 5.4940968, 5.7758294, 5.7127321, 5.3317694, 4.7707774, 4.2303136, 3.9035954, 3.9090038, 4.2487288, 4.8080039, 5.3951972, 5.8087533, 5.9076023, 5.660439, 5.1566584, 4.5751275, 4.1217012, 3.957311, 4.1417471, 4.6127715, 5.2078593, 5.720973, 5.9745374, 5.8814716, 5.4756083, 4.8998752, 4.3563664, 4.0357444, 4.0506367, 4.3962913, 4.952237, 5.5243671, 5.9127468, 5.9814558, 5.7060695, 5.1821911, 4.5920549, 4.1408664, 3.9851183, 4.1779235, 4.650461, 5.2360174, 5.7282246, 5.9531508, 5.8300596, 5.3996139, 4.8096715, 4.2636343, 3.9493945, 3.9736985, 4.3248581, 4.8768333, 5.4332623, 5.7960567, 5.8345998, 5.5313751, 4.988086, 4.3901277, 3.9418246, 3.7950534, 3.9961897, 4.4699073, 5.0454927, 5.5164808, 5.7127796, 5.5600885, 5.1058548, 4.5026988, 3.9551006, 3.6479693, 3.6820497, 4.0387303, 4.5865447, 5.1270983, 5.4643731, 5.4732034, 5.1430008, 4.5814535, 3.9769084, 3.5325771, 3.395549, 3.6054095, 4.0804126, 4.6460377, 5.0959559, 5.2641073, 5.0827113, 4.6059455, 3.9910206, 3.443263, 3.1443897, 3.18903, 3.5516699, 4.0955656, 4.6205135, 4.9327876, 4.912815, 4.5569469, 3.9787347, 3.3692636, 2.930403, 2.8042882, 3.0236697, 3.5004738, 4.0565703, 4.4859995, 4.6269216, 4.4181522, 3.9205381, 3.2957021, 2.749585, 2.460506, 2.5168717])\n"
     ]
    }
   ],
   "source": [
    "print(\"Tempos:\", tempos)\n",
    "print(\"Dados:\", dados)"
   ]
  },
  {
   "cell_type": "markdown",
   "metadata": {},
   "source": [
    "## Tarefa 2\n",
    "\n",
    "* Calcule a temperatura média para o dia inteiro e guarde-a em uma variável chamada `media`.\n",
    "* Calcule o desvio padrão da temperatura para o dia inteiro e guarde-o em uma variável chamada `desvio_padrao`.\n",
    "\n",
    "Lembre-se que o desvio padrão é\n",
    "\n",
    "$$\n",
    "\\sigma = \\sqrt{\\sum\\limits_{i=1}^{N}\\frac{ (x_i - x_{media})^2 }{N}}\n",
    "$$\n",
    "\n",
    "em que $x_i$ são os dados, $x_{media}$ é a média e $N$ é o número de dados.\n",
    "\n",
    "**Dica**: Para elevar um número a uma potência, utilize `**`. Por exemplo, `2**4 == 16`."
   ]
  },
  {
   "cell_type": "code",
<<<<<<< HEAD
   "execution_count": 16,
=======
   "execution_count": 26,
>>>>>>> 61ca87745b0d67d126e301bf5128d34100c6f822
   "metadata": {
    "collapsed": false
   },
   "outputs": [
    {
     "name": "stdout",
     "output_type": "stream",
     "text": [
      "3.61439476698\n"
     ]
    }
   ],
   "source": [
    "N = len(dados) #numero de elementos da lista\n",
    "soma = 0 #criação da variavel soma\n",
    "for valor in dados: #cada vez que passar pelo for é adicionado um valor\n",
    "    soma =  soma + valor #valor anterior, mais um novo\n",
    "media = (soma/N) #criação da média que equivale a variavel soma dividido pelo numero de elementos\n",
    "print(media) #imprime"
   ]
  },
  {
   "cell_type": "code",
<<<<<<< HEAD
   "execution_count": 17,
=======
   "execution_count": 27,
>>>>>>> 61ca87745b0d67d126e301bf5128d34100c6f822
   "metadata": {
    "collapsed": false
   },
   "outputs": [
    {
     "name": "stdout",
     "output_type": "stream",
     "text": [
      "1.57320708805\n"
     ]
    }
   ],
   "source": [
    "\n",
    "somat = 0 #ciração da variavel somat\n",
    "for valor in dados: #rodar de novo adicionando novos valores\n",
    "    somatorio = (valor-media)**2 #variavel somatorio equivale a N valores menos a media ao quadrado\n",
    "    somat = somatorio + somat #variavel somat equilvale a variavel somatorio mais somat, adicionada N vezes\n",
    "desvio_padrao = (somat/N)**0.5 #calculo do desvio padrão fora do for, ulização das variaveis anteriores\n",
    "print(desvio_padrao) #imprime o desvio padrão\n"
   ]
  },
  {
   "cell_type": "markdown",
   "metadata": {},
   "source": [
    "### Resultado esperado\n",
    "\n",
    "As celúlas abaixo comparam a sua média e desvio padrão com os calculados pela biblioteca [numpy](http://numpy.org/).\n",
    "Ambas devem imprimir `True` quando executadas."
   ]
  },
  {
   "cell_type": "code",
<<<<<<< HEAD
   "execution_count": 18,
=======
   "execution_count": 28,
>>>>>>> 61ca87745b0d67d126e301bf5128d34100c6f822
   "metadata": {
    "collapsed": false
   },
   "outputs": [
    {
     "name": "stdout",
     "output_type": "stream",
     "text": [
      "('Media esta igual?', True)\n"
     ]
    }
   ],
   "source": [
    "import numpy as np\n",
    "print(\"Media esta igual?\", np.allclose(media, np.mean(dados)))"
   ]
  },
  {
   "cell_type": "code",
<<<<<<< HEAD
   "execution_count": 19,
=======
   "execution_count": 29,
>>>>>>> 61ca87745b0d67d126e301bf5128d34100c6f822
   "metadata": {
    "collapsed": false
   },
   "outputs": [
    {
     "name": "stdout",
     "output_type": "stream",
     "text": [
      "('Desvio padrao esta igual?', True)\n"
     ]
    }
   ],
   "source": [
    "print(\"Desvio padrao esta igual?\", np.allclose(desvio_padrao, np.std(dados)))\n"
   ]
  },
  {
   "cell_type": "markdown",
   "metadata": {},
   "source": [
    "## Tarefa 3\n",
    "\n",
    "* Ache o valor máximo de temperatura medido e guarde-o na variável `maximo`.\n",
    "* Ache o valor mínimo de temperatura medido e guarde-o na variável `minimo`.\n",
    "\n",
    "**Dica**: o Python inclui um valor especial chamado de `None`. Ele é comumente utilizado para marcar que uma variável está \"vazia\" ou não utilizada ainda. Um detalhe desse valor é que não podemos utilizar `==` para checar se uma variável possui o valor `None`. Ao invés disso, devemos utilizar o comando `is`. Por exemplo:\n",
    "\n",
    "    variavel = None\n",
    "    if variavel is None:\n",
    "        print(\"A variavel eh None\")\n",
    "        variavel = 20\n",
    "        "
   ]
  },
  {
   "cell_type": "code",
<<<<<<< HEAD
   "execution_count": 20,
=======
   "execution_count": 34,
>>>>>>> 61ca87745b0d67d126e301bf5128d34100c6f822
   "metadata": {
    "collapsed": false
   },
   "outputs": [
    {
     "name": "stdout",
     "output_type": "stream",
     "text": [
<<<<<<< HEAD
      "maximo 5.9814558\n"
=======
      "('maximo ', 5.9814558)\n"
>>>>>>> 61ca87745b0d67d126e301bf5128d34100c6f822
     ]
    }
   ],
   "source": [
<<<<<<< HEAD
    "maximo = dados[0]\n",
    "for valor in dados:\n",
    "    if maximo < valor:\n",
    "        maximo = valor\n",
    "print(\"maximo\", maximo)\n"
=======
    "maximo = dados[0] #indica o maximo com o primeiro dado\n",
    "for valor in dados: #analisa todos os dados\n",
    "    if maximo < valor: #Caso o valor seja maior que o maximo\n",
    "        maximo = valor #Entao o valor sera o maximo\n",
    "print(\"maximo \", maximo) #imprimir o valor maximo\n"
>>>>>>> 61ca87745b0d67d126e301bf5128d34100c6f822
   ]
  },
  {
   "cell_type": "code",
<<<<<<< HEAD
   "execution_count": 21,
=======
   "execution_count": 35,
>>>>>>> 61ca87745b0d67d126e301bf5128d34100c6f822
   "metadata": {
    "collapsed": false
   },
   "outputs": [
    {
     "name": "stdout",
     "output_type": "stream",
     "text": [
<<<<<<< HEAD
      "minimo -0.59659114\n"
=======
      "('minimo ', -0.59659114)\n"
>>>>>>> 61ca87745b0d67d126e301bf5128d34100c6f822
     ]
    }
   ],
   "source": [
<<<<<<< HEAD
    "minimo = dados[0]\n",
    "for valor in dados:\n",
    "    if minimo > valor:\n",
    "        minimo = valor\n",
    "print(\"minimo\", minimo)"
=======
    "minimo = dados[0] #indica o minimo com o primeiro dado\n",
    "for valor in dados: #analisa todos os dados\n",
    "    if minimo > valor: #Caso o valor seja menor que o minimo\n",
    "        minimo = valor #Entao o valor sera o minimo\n",
    "print(\"minimo \", minimo) #imprimir o valor minimo"
>>>>>>> 61ca87745b0d67d126e301bf5128d34100c6f822
   ]
  },
  {
   "cell_type": "markdown",
   "metadata": {},
   "source": [
    "### Resultado esperado\n",
    "\n",
    "As celúlas abaixo comparam os valores máximo e mínimo com os calculados pelas funções `max` e `min` do Python.\n",
    "Ambas devem imprimir `True` quando executadas."
   ]
  },
  {
   "cell_type": "code",
<<<<<<< HEAD
   "execution_count": 22,
=======
   "execution_count": 36,
>>>>>>> 61ca87745b0d67d126e301bf5128d34100c6f822
   "metadata": {
    "collapsed": false
   },
   "outputs": [
    {
     "name": "stdout",
     "output_type": "stream",
     "text": [
<<<<<<< HEAD
      "Maximo esta igual? True\n"
=======
      "('Maximo esta igual?', True)\n"
>>>>>>> 61ca87745b0d67d126e301bf5128d34100c6f822
     ]
    }
   ],
   "source": [
    "print(\"Maximo esta igual?\", np.allclose(maximo, max(dados)))"
   ]
  },
  {
   "cell_type": "code",
<<<<<<< HEAD
   "execution_count": 23,
=======
   "execution_count": 37,
>>>>>>> 61ca87745b0d67d126e301bf5128d34100c6f822
   "metadata": {
    "collapsed": false
   },
   "outputs": [
    {
     "name": "stdout",
     "output_type": "stream",
     "text": [
<<<<<<< HEAD
      "Minimo esta igual? True\n"
=======
      "('Minimo esta igual?', True)\n"
>>>>>>> 61ca87745b0d67d126e301bf5128d34100c6f822
     ]
    }
   ],
   "source": [
    "print(\"Minimo esta igual?\", np.allclose(minimo, min(dados)))"
   ]
  },
  {
   "cell_type": "markdown",
   "metadata": {},
   "source": [
    "## Tarefa 4\n",
    "\n",
    "* Calcule a temperatura média por hora e guarde-as em uma lista chamada `media_hora`.\n",
    "* Faça um gráfico dos dados originais juntamente com as médias que você calculou.\n",
    "\n",
    "**Dica 1**: quantos dados existem por hora?\n",
    "\n",
    "**Dica 2**: veja esse [exemplo de como colocar uma legenda no grafico](http://matplotlib.org/examples/api/legend_demo.html)."
   ]
  },
  {
   "cell_type": "code",
<<<<<<< HEAD
   "execution_count": 24,
=======
   "execution_count": 38,
>>>>>>> 61ca87745b0d67d126e301bf5128d34100c6f822
   "metadata": {
    "collapsed": false
   },
   "outputs": [
    {
<<<<<<< HEAD
     "name": "stdout",
     "output_type": "stream",
     "text": [
      "[0.24524000100000007, 0.7538229956, 1.25266842, 1.7361839509999997, 2.19915446, 2.6368249399999995, 3.0449581, 3.4198659899999995, 3.7584158100000002, 4.05801226, 4.31656083, 4.5324171699999996, 4.704328540000001, 4.83137451, 4.912912540000001, 4.948534479999999, 4.93803825, 4.88141768, 4.7788713000000005, 4.6308297099999995, 4.4379985699999995, 4.20141309, 3.92249878, 3.6031320300000003]\n"
=======
     "ename": "TypeError",
     "evalue": "list indices must be integers, not tuple",
     "output_type": "error",
     "traceback": [
      "\u001b[1;31m---------------------------------------------------------------------------\u001b[0m",
      "\u001b[1;31mTypeError\u001b[0m                                 Traceback (most recent call last)",
      "\u001b[1;32m<ipython-input-38-68ea3c2e501d>\u001b[0m in \u001b[0;36m<module>\u001b[1;34m()\u001b[0m\n\u001b[0;32m      1\u001b[0m \u001b[0mmedia_hora\u001b[0m \u001b[1;33m=\u001b[0m \u001b[1;33m[\u001b[0m\u001b[1;33m]\u001b[0m\u001b[1;33m\u001b[0m\u001b[0m\n\u001b[1;32m----> 2\u001b[1;33m \u001b[0mN\u001b[0m \u001b[1;33m=\u001b[0m \u001b[0mlen\u001b[0m\u001b[1;33m(\u001b[0m\u001b[0mdados\u001b[0m\u001b[1;33m[\u001b[0m\u001b[1;36m0.0\u001b[0m\u001b[1;33m,\u001b[0m \u001b[1;36m1\u001b[0m\u001b[1;33m,\u001b[0m \u001b[1;36m1\u001b[0m\u001b[1;33m]\u001b[0m\u001b[1;33m)\u001b[0m\u001b[1;33m\u001b[0m\u001b[0m\n\u001b[0m\u001b[0;32m      3\u001b[0m \u001b[0msoma\u001b[0m \u001b[1;33m=\u001b[0m \u001b[1;36m0\u001b[0m\u001b[1;33m\u001b[0m\u001b[0m\n\u001b[0;32m      4\u001b[0m \u001b[1;32mfor\u001b[0m \u001b[0mvalor\u001b[0m \u001b[1;32min\u001b[0m \u001b[0mdados\u001b[0m\u001b[1;33m:\u001b[0m\u001b[1;33m\u001b[0m\u001b[0m\n\u001b[0;32m      5\u001b[0m     \u001b[0msoma\u001b[0m \u001b[1;33m=\u001b[0m \u001b[0msoma\u001b[0m \u001b[1;33m+\u001b[0m \u001b[0mvalor\u001b[0m\u001b[1;33m\u001b[0m\u001b[0m\n",
      "\u001b[1;31mTypeError\u001b[0m: list indices must be integers, not tuple"
>>>>>>> 61ca87745b0d67d126e301bf5128d34100c6f822
     ]
    }
   ],
   "source": [
    "media_hora = [] #criar lista\n",
    "for N in range (10,250,10): #rodar do 10 ao 250 de 10 em 10\n",
    "    soma_intervalos = 0 #criação da variavel, para soma\n",
    "    for x in range (N-10, N, 1): #para x total menos dez ao total de 1 em 1\n",
    "        soma_intervalos = soma_intervalos + dados[x] #soma do valor anterior\n",
    "    media = soma_intervalos/10 #media equivale a soma dos intervalos calculados anteriormente dividido por 10\n",
    "    media_hora.append(media) #adicionar todos os valotes de media\n",
    "print(media_hora) #realizar a lista\n"
   ]
  },
  {
   "cell_type": "code",
   "execution_count": 35,
   "metadata": {
    "collapsed": false
   },
   "outputs": [
    {
     "data": {
      "image/png": "iVBORw0KGgoAAAANSUhEUgAAAYIAAAEPCAYAAABP1MOPAAAABHNCSVQICAgIfAhkiAAAAAlwSFlz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\niIhEnBKBiEjEKRGIiETc/wG5B34JHtqV5QAAAABJRU5ErkJggg==\n",
      "text/plain": [
       "<matplotlib.figure.Figure at 0x5bdc3c8>"
      ]
     },
     "metadata": {},
     "output_type": "display_data"
    }
   ],
   "source": [
    "import matplotlib.pyplot as plt #criar figura\n",
    "% matplotlib inline\n",
    "n_dias_hora = [0,1,2,3,4,5,6,7,8,9,10,11,12,13,14,15,16,17,18,19,20,21,22,23] #lista de numero dias com 10 horas\n",
    "plt.figure()\n",
    "plt.plot(tempos,dados,\"-k\",label = \"dados\") \n",
    "plt.xlabel(\"Hora\") #eixo x\n",
    "plt.ylabel(\"Temperatura\") #eixo y\n",
    "plt.plot(n_dias_hora, media_hora, \"ok\", label = \"Média por hora\") #criar legenda\n",
    "legend = plt.legend(loc=\"lower right\", shadow=True, fontsize=\"x-large\") #formatar legenda: direita, esquerda, meio, em cima, em baixo ou no centro"
   ]
  },
  {
   "cell_type": "markdown",
   "metadata": {},
   "source": [
    "### Resultado esperado\n",
    "\n",
    "A figura gerada deve ser parecida com:\n",
    "\n",
    "![images/media-por-hora.png](images/media-por-hora.png)"
   ]
  },
  {
   "cell_type": "markdown",
   "metadata": {},
   "source": [
    "## Tarefa Bônus\n",
    "\n",
    "Essa tarefa vale um bônus de 0.5 pontos na nota da prática.\n",
    "\n",
    "* Calcule os máximos de temperatura por hora.\n",
    "* Calcule os mínimos de temperatura por hora.\n",
    "* Faça um gráfico com: (1) os dados originais (2) as médias por hora (3) os máximos por hora (4) os mínimos por hora."
   ]
  },
  {
   "cell_type": "code",
   "execution_count": null,
   "metadata": {
    "collapsed": false
   },
   "outputs": [],
   "source": []
  },
  {
   "cell_type": "markdown",
   "metadata": {},
   "source": [
    "### Resultado esperado\n",
    "\n",
    "A figura gerada deve ser parecida com:\n",
    "\n",
    "![images/media-maximo-minimo-por-hora.png](images/media-maximo-minimo-por-hora.png)"
   ]
  }
 ],
 "metadata": {
  "kernelspec": {
   "display_name": "Python 2",
   "language": "python",
   "name": "python2"
  },
  "language_info": {
   "codemirror_mode": {
    "name": "ipython",
    "version": 2
   },
   "file_extension": ".py",
   "mimetype": "text/x-python",
   "name": "python",
   "nbconvert_exporter": "python",
   "pygments_lexer": "ipython2",
   "version": "2.7.10"
  }
 },
 "nbformat": 4,
 "nbformat_minor": 0
}
